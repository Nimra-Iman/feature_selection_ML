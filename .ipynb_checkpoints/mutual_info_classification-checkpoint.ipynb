{
 "cells": [
  {
   "cell_type": "markdown",
   "id": "7d78d1c1-6039-4d85-a288-6c89ae50e14b",
   "metadata": {},
   "source": [
    "<h1> pre requisites (entropy, information gain, gini impurity)</h1>"
   ]
  },
  {
   "cell_type": "code",
   "execution_count": 17,
   "id": "040db7cb-a62a-464e-be5e-a63b53e9e488",
   "metadata": {},
   "outputs": [
    {
     "data": {
      "text/html": [
       "<img src=\"1.png\" width=\"400\" height=\"70\">"
      ],
      "text/plain": [
       "<IPython.core.display.HTML object>"
      ]
     },
     "execution_count": 17,
     "metadata": {},
     "output_type": "execute_result"
    }
   ],
   "source": [
    "from IPython.display import HTML\n",
    "HTML('<img src=\"1.png\" width=\"400\" height=\"70\">')"
   ]
  },
  {
   "cell_type": "code",
   "execution_count": 14,
   "id": "39992983-ae98-4781-b3e2-7c7d0494f156",
   "metadata": {},
   "outputs": [
    {
     "data": {
      "text/html": [
       "<img src=\"2.jpeg\" width=\"400\" height=\"70\">"
      ],
      "text/plain": [
       "<IPython.core.display.HTML object>"
      ]
     },
     "execution_count": 14,
     "metadata": {},
     "output_type": "execute_result"
    }
   ],
   "source": [
    "from IPython.display import HTML\n",
    "HTML('<img src=\"2.jpeg\" width=\"400\" height=\"70\">')"
   ]
  },
  {
   "cell_type": "code",
   "execution_count": 18,
   "id": "3efb3251-79ac-4abe-bab4-81e0f8740a3e",
   "metadata": {},
   "outputs": [
    {
     "data": {
      "text/html": [
       "<img src=\"3.jpeg\" width=\"400\" height=\"70\">"
      ],
      "text/plain": [
       "<IPython.core.display.HTML object>"
      ]
     },
     "execution_count": 18,
     "metadata": {},
     "output_type": "execute_result"
    }
   ],
   "source": [
    "from IPython.display import HTML\n",
    "HTML('<img src=\"3.jpeg\" width=\"400\" height=\"70\">')"
   ]
  },
  {
   "cell_type": "code",
   "execution_count": 19,
   "id": "bd44a719-9354-4198-906b-9628ad215f87",
   "metadata": {},
   "outputs": [
    {
     "data": {
      "text/html": [
       "<img src=\"4.jpeg\" width=\"400\" height=\"70\">"
      ],
      "text/plain": [
       "<IPython.core.display.HTML object>"
      ]
     },
     "execution_count": 19,
     "metadata": {},
     "output_type": "execute_result"
    }
   ],
   "source": [
    "from IPython.display import HTML\n",
    "HTML('<img src=\"4.jpeg\" width=\"400\" height=\"70\">')"
   ]
  },
  {
   "cell_type": "code",
   "execution_count": 20,
   "id": "fd1aed54-0a69-482c-94d1-1931a326b200",
   "metadata": {},
   "outputs": [
    {
     "data": {
      "text/html": [
       "<img src=\"5.png\" width=\"400\" height=\"70\">"
      ],
      "text/plain": [
       "<IPython.core.display.HTML object>"
      ]
     },
     "execution_count": 20,
     "metadata": {},
     "output_type": "execute_result"
    }
   ],
   "source": [
    "from IPython.display import HTML\n",
    "HTML('<img src=\"5.png\" width=\"400\" height=\"70\">')"
   ]
  },
  {
   "cell_type": "code",
   "execution_count": 21,
   "id": "9dd82808-7d92-4eaa-8996-6c5ec3c3eb4c",
   "metadata": {},
   "outputs": [
    {
     "data": {
      "text/html": [
       "<img src=\"6.jpeg\" width=\"400\" height=\"70\">"
      ],
      "text/plain": [
       "<IPython.core.display.HTML object>"
      ]
     },
     "execution_count": 21,
     "metadata": {},
     "output_type": "execute_result"
    }
   ],
   "source": [
    "from IPython.display import HTML\n",
    "HTML('<img src=\"6.jpeg\" width=\"400\" height=\"70\">')"
   ]
  },
  {
   "cell_type": "code",
   "execution_count": 22,
   "id": "fdde51db-210e-482c-8a77-90d4e41527c4",
   "metadata": {},
   "outputs": [
    {
     "data": {
      "text/html": [
       "<img src=\"7.jpeg\" width=\"400\" height=\"70\">"
      ],
      "text/plain": [
       "<IPython.core.display.HTML object>"
      ]
     },
     "execution_count": 22,
     "metadata": {},
     "output_type": "execute_result"
    }
   ],
   "source": [
    "from IPython.display import HTML\n",
    "HTML('<img src=\"7.jpeg\" width=\"400\" height=\"70\">')"
   ]
  },
  {
   "cell_type": "code",
   "execution_count": 23,
   "id": "6e557be8-11bc-4107-a66a-29da0116f073",
   "metadata": {},
   "outputs": [
    {
     "data": {
      "text/html": [
       "<img src=\"entropy graph.jpeg\" width=\"400\" height=\"70\">"
      ],
      "text/plain": [
       "<IPython.core.display.HTML object>"
      ]
     },
     "execution_count": 23,
     "metadata": {},
     "output_type": "execute_result"
    }
   ],
   "source": [
    "from IPython.display import HTML\n",
    "HTML('<img src=\"entropy graph.jpeg\" width=\"400\" height=\"70\">')"
   ]
  },
  {
   "cell_type": "code",
   "execution_count": 24,
   "id": "54b5cd0f-e787-46cf-ad0a-d464dc77c48d",
   "metadata": {},
   "outputs": [
    {
     "data": {
      "text/html": [
       "<img src=\"GINI IMPURITY.jpeg\" width=\"400\" height=\"70\">"
      ],
      "text/plain": [
       "<IPython.core.display.HTML object>"
      ]
     },
     "execution_count": 24,
     "metadata": {},
     "output_type": "execute_result"
    }
   ],
   "source": [
    "from IPython.display import HTML\n",
    "HTML('<img src=\"GINI IMPURITY.jpeg\" width=\"400\" height=\"70\">')"
   ]
  },
  {
   "cell_type": "markdown",
   "id": "19703b65-cea9-46b1-b228-a3d79d13df91",
   "metadata": {},
   "source": [
    "<h1> feature selection - information gain - mutual information in classification problem statement </h1>"
   ]
  },
  {
   "cell_type": "code",
   "execution_count": null,
   "id": "fadddd34-cc98-4283-a766-69fe08f39fac",
   "metadata": {},
   "outputs": [],
   "source": [
    "Mutual information (MI) between two random variables is a non-negative value, which measures the dependency between\n",
    "the variables. It is equal to zero if and only if two random variables are independent, and higher values mean \n",
    "higher dependency.\n",
    "\n",
    "The function relies on nonparametric methods based on entropy estimation from k-nearest neighbors distances.\n",
    "\n",
    "Inshort\n",
    "\n",
    "A quantity called mutual information measures the amount of information one can obtain from one random variable given another.\n",
    "\n",
    "The mutual information between two random variables X and Y can be stated formally as follows:\n",
    "\n",
    "I(X ; Y) = H(X) – H(X | Y) Where I(X ; Y) is the mutual information for X and Y, H(X) is the entropy for X and H(X | Y) is\n",
    "the conditional entropy for X given Y. The result has the units of bits."
   ]
  },
  {
   "cell_type": "code",
   "execution_count": null,
   "id": "f6f0521a-5c7d-4f41-bf91-ea8b5ea8e398",
   "metadata": {},
   "outputs": [],
   "source": [
    "mutual information is actually a kind of information gain."
   ]
  },
  {
   "cell_type": "code",
   "execution_count": null,
   "id": "ba940039-d01a-4d0f-a589-46a77ea29031",
   "metadata": {},
   "outputs": [],
   "source": [
    "MI Estimate mutual information for a discrete target variable.\n",
    "                              \n",
    "\n",
    "Mutual information (MI) between two random variables is a non-negative value, which measures\n",
    "the dependency between the variables. It is equal to zero if and only if two random variables (in which one is dependent\n",
    "and other is independent variable) are\n",
    "independent, and higher values mean higher dependency.\n",
    "                                                                            "
   ]
  },
  {
   "cell_type": "code",
   "execution_count": 78,
   "id": "5fe1db25-af69-48fb-b76e-8f0bf6ecc647",
   "metadata": {},
   "outputs": [],
   "source": [
    "import pandas as pd\n",
    "from sklearn.datasets import load_wine \n",
    "dataset=load_wine()\n",
    "data=pd.DataFrame(dataset.data, columns=dataset.feature_names)\n"
   ]
  },
  {
   "cell_type": "code",
   "execution_count": 79,
   "id": "ca793aa6-329f-4201-a847-b8300fcc2064",
   "metadata": {},
   "outputs": [
    {
     "data": {
      "text/html": [
       "<div>\n",
       "<style scoped>\n",
       "    .dataframe tbody tr th:only-of-type {\n",
       "        vertical-align: middle;\n",
       "    }\n",
       "\n",
       "    .dataframe tbody tr th {\n",
       "        vertical-align: top;\n",
       "    }\n",
       "\n",
       "    .dataframe thead th {\n",
       "        text-align: right;\n",
       "    }\n",
       "</style>\n",
       "<table border=\"1\" class=\"dataframe\">\n",
       "  <thead>\n",
       "    <tr style=\"text-align: right;\">\n",
       "      <th></th>\n",
       "      <th>alcohol</th>\n",
       "      <th>malic_acid</th>\n",
       "      <th>ash</th>\n",
       "      <th>alcalinity_of_ash</th>\n",
       "      <th>magnesium</th>\n",
       "      <th>total_phenols</th>\n",
       "      <th>flavanoids</th>\n",
       "      <th>nonflavanoid_phenols</th>\n",
       "      <th>proanthocyanins</th>\n",
       "      <th>color_intensity</th>\n",
       "      <th>hue</th>\n",
       "      <th>od280/od315_of_diluted_wines</th>\n",
       "      <th>proline</th>\n",
       "      <th>target</th>\n",
       "    </tr>\n",
       "  </thead>\n",
       "  <tbody>\n",
       "    <tr>\n",
       "      <th>0</th>\n",
       "      <td>14.23</td>\n",
       "      <td>1.71</td>\n",
       "      <td>2.43</td>\n",
       "      <td>15.6</td>\n",
       "      <td>127.0</td>\n",
       "      <td>2.80</td>\n",
       "      <td>3.06</td>\n",
       "      <td>0.28</td>\n",
       "      <td>2.29</td>\n",
       "      <td>5.64</td>\n",
       "      <td>1.04</td>\n",
       "      <td>3.92</td>\n",
       "      <td>1065.0</td>\n",
       "      <td>0</td>\n",
       "    </tr>\n",
       "    <tr>\n",
       "      <th>1</th>\n",
       "      <td>13.20</td>\n",
       "      <td>1.78</td>\n",
       "      <td>2.14</td>\n",
       "      <td>11.2</td>\n",
       "      <td>100.0</td>\n",
       "      <td>2.65</td>\n",
       "      <td>2.76</td>\n",
       "      <td>0.26</td>\n",
       "      <td>1.28</td>\n",
       "      <td>4.38</td>\n",
       "      <td>1.05</td>\n",
       "      <td>3.40</td>\n",
       "      <td>1050.0</td>\n",
       "      <td>0</td>\n",
       "    </tr>\n",
       "    <tr>\n",
       "      <th>2</th>\n",
       "      <td>13.16</td>\n",
       "      <td>2.36</td>\n",
       "      <td>2.67</td>\n",
       "      <td>18.6</td>\n",
       "      <td>101.0</td>\n",
       "      <td>2.80</td>\n",
       "      <td>3.24</td>\n",
       "      <td>0.30</td>\n",
       "      <td>2.81</td>\n",
       "      <td>5.68</td>\n",
       "      <td>1.03</td>\n",
       "      <td>3.17</td>\n",
       "      <td>1185.0</td>\n",
       "      <td>0</td>\n",
       "    </tr>\n",
       "    <tr>\n",
       "      <th>3</th>\n",
       "      <td>14.37</td>\n",
       "      <td>1.95</td>\n",
       "      <td>2.50</td>\n",
       "      <td>16.8</td>\n",
       "      <td>113.0</td>\n",
       "      <td>3.85</td>\n",
       "      <td>3.49</td>\n",
       "      <td>0.24</td>\n",
       "      <td>2.18</td>\n",
       "      <td>7.80</td>\n",
       "      <td>0.86</td>\n",
       "      <td>3.45</td>\n",
       "      <td>1480.0</td>\n",
       "      <td>0</td>\n",
       "    </tr>\n",
       "    <tr>\n",
       "      <th>4</th>\n",
       "      <td>13.24</td>\n",
       "      <td>2.59</td>\n",
       "      <td>2.87</td>\n",
       "      <td>21.0</td>\n",
       "      <td>118.0</td>\n",
       "      <td>2.80</td>\n",
       "      <td>2.69</td>\n",
       "      <td>0.39</td>\n",
       "      <td>1.82</td>\n",
       "      <td>4.32</td>\n",
       "      <td>1.04</td>\n",
       "      <td>2.93</td>\n",
       "      <td>735.0</td>\n",
       "      <td>0</td>\n",
       "    </tr>\n",
       "  </tbody>\n",
       "</table>\n",
       "</div>"
      ],
      "text/plain": [
       "   alcohol  malic_acid   ash  alcalinity_of_ash  magnesium  total_phenols  \\\n",
       "0    14.23        1.71  2.43               15.6      127.0           2.80   \n",
       "1    13.20        1.78  2.14               11.2      100.0           2.65   \n",
       "2    13.16        2.36  2.67               18.6      101.0           2.80   \n",
       "3    14.37        1.95  2.50               16.8      113.0           3.85   \n",
       "4    13.24        2.59  2.87               21.0      118.0           2.80   \n",
       "\n",
       "   flavanoids  nonflavanoid_phenols  proanthocyanins  color_intensity   hue  \\\n",
       "0        3.06                  0.28             2.29             5.64  1.04   \n",
       "1        2.76                  0.26             1.28             4.38  1.05   \n",
       "2        3.24                  0.30             2.81             5.68  1.03   \n",
       "3        3.49                  0.24             2.18             7.80  0.86   \n",
       "4        2.69                  0.39             1.82             4.32  1.04   \n",
       "\n",
       "   od280/od315_of_diluted_wines  proline  target  \n",
       "0                          3.92   1065.0       0  \n",
       "1                          3.40   1050.0       0  \n",
       "2                          3.17   1185.0       0  \n",
       "3                          3.45   1480.0       0  \n",
       "4                          2.93    735.0       0  "
      ]
     },
     "execution_count": 79,
     "metadata": {},
     "output_type": "execute_result"
    }
   ],
   "source": [
    "data[\"target\"]=dataset.target\n",
    "data.head()"
   ]
  },
  {
   "cell_type": "code",
   "execution_count": 80,
   "id": "01a49db9-a0f2-4496-8473-e92aeb723f23",
   "metadata": {},
   "outputs": [
    {
     "data": {
      "text/plain": [
       "array([0, 1, 2])"
      ]
     },
     "execution_count": 80,
     "metadata": {},
     "output_type": "execute_result"
    }
   ],
   "source": [
    "data[\"target\"].unique()"
   ]
  },
  {
   "cell_type": "code",
   "execution_count": 101,
   "id": "ccc0fb00-bed4-4194-8410-cc7ce8ef422f",
   "metadata": {},
   "outputs": [],
   "source": [
    "from sklearn.model_selection import train_test_split\n",
    "x=data.drop(\"target\", axis=1)\n",
    "y=data[\"target\"]\n",
    "x_train, x_test, y_train, y_test=train_test_split(x, y, test_size=0.3)"
   ]
  },
  {
   "cell_type": "code",
   "execution_count": 102,
   "id": "2c8f5a7f-006a-4e92-aad7-59898db5b55a",
   "metadata": {},
   "outputs": [
    {
     "data": {
      "text/plain": [
       "array([0.40022068, 0.36425668, 0.10235823, 0.22827111, 0.26839072,\n",
       "       0.42319454, 0.64638166, 0.06052409, 0.30702381, 0.5574772 ,\n",
       "       0.49106432, 0.52506694, 0.50064104])"
      ]
     },
     "execution_count": 102,
     "metadata": {},
     "output_type": "execute_result"
    }
   ],
   "source": [
    "from sklearn.feature_selection import mutual_info_classif\n",
    "mutual_info=mutual_info_classif(x_train, y_train)\n",
    "mutual_info"
   ]
  },
  {
   "cell_type": "code",
   "execution_count": null,
   "id": "ed5eab09-e04b-4bf2-af51-55b6a89df0ce",
   "metadata": {},
   "outputs": [],
   "source": [
    "jis ki mutual information sab s ziada ho gi us ki target k saath dependency sab s ziada ho gi\n",
    "or jis ki target k saath dependency ziada ho gi us feature ki utni ziada importance ho gi"
   ]
  },
  {
   "cell_type": "code",
   "execution_count": 103,
   "id": "e07a1e3c-5411-4053-85d2-f1fc0cb69eb0",
   "metadata": {},
   "outputs": [
    {
     "data": {
      "text/plain": [
       "flavanoids                      0.646382\n",
       "color_intensity                 0.557477\n",
       "od280/od315_of_diluted_wines    0.525067\n",
       "proline                         0.500641\n",
       "hue                             0.491064\n",
       "total_phenols                   0.423195\n",
       "alcohol                         0.400221\n",
       "malic_acid                      0.364257\n",
       "proanthocyanins                 0.307024\n",
       "magnesium                       0.268391\n",
       "alcalinity_of_ash               0.228271\n",
       "ash                             0.102358\n",
       "nonflavanoid_phenols            0.060524\n",
       "dtype: float64"
      ]
     },
     "execution_count": 103,
     "metadata": {},
     "output_type": "execute_result"
    }
   ],
   "source": [
    "# now we will calculate k kis feature ki mutual information sab s ziada h\n",
    "max_mut_info=pd.Series(mutual_info)\n",
    "max_mut_info.index=x_train.columns\n",
    "max_mut_info.sort_values(ascending=False)"
   ]
  },
  {
   "cell_type": "code",
   "execution_count": 104,
   "id": "1357f0fb-145d-4fcd-a714-ba45ecec1cad",
   "metadata": {},
   "outputs": [
    {
     "name": "stdout",
     "output_type": "stream",
     "text": [
      "<class 'pandas.core.frame.DataFrame'>\n",
      "RangeIndex: 178 entries, 0 to 177\n",
      "Data columns (total 14 columns):\n",
      " #   Column                        Non-Null Count  Dtype  \n",
      "---  ------                        --------------  -----  \n",
      " 0   alcohol                       178 non-null    float64\n",
      " 1   malic_acid                    178 non-null    float64\n",
      " 2   ash                           178 non-null    float64\n",
      " 3   alcalinity_of_ash             178 non-null    float64\n",
      " 4   magnesium                     178 non-null    float64\n",
      " 5   total_phenols                 178 non-null    float64\n",
      " 6   flavanoids                    178 non-null    float64\n",
      " 7   nonflavanoid_phenols          178 non-null    float64\n",
      " 8   proanthocyanins               178 non-null    float64\n",
      " 9   color_intensity               178 non-null    float64\n",
      " 10  hue                           178 non-null    float64\n",
      " 11  od280/od315_of_diluted_wines  178 non-null    float64\n",
      " 12  proline                       178 non-null    float64\n",
      " 13  target                        178 non-null    int32  \n",
      "dtypes: float64(13), int32(1)\n",
      "memory usage: 18.9 KB\n"
     ]
    }
   ],
   "source": [
    "data.info()"
   ]
  },
  {
   "cell_type": "code",
   "execution_count": 105,
   "id": "d9f09ff8-b222-426c-984e-3b5db3fe4cb8",
   "metadata": {},
   "outputs": [
    {
     "data": {
      "text/html": [
       "<div>\n",
       "<style scoped>\n",
       "    .dataframe tbody tr th:only-of-type {\n",
       "        vertical-align: middle;\n",
       "    }\n",
       "\n",
       "    .dataframe tbody tr th {\n",
       "        vertical-align: top;\n",
       "    }\n",
       "\n",
       "    .dataframe thead th {\n",
       "        text-align: right;\n",
       "    }\n",
       "</style>\n",
       "<table border=\"1\" class=\"dataframe\">\n",
       "  <thead>\n",
       "    <tr style=\"text-align: right;\">\n",
       "      <th></th>\n",
       "      <th>flavanoids</th>\n",
       "      <th>color_intensity</th>\n",
       "      <th>hue</th>\n",
       "      <th>od280/od315_of_diluted_wines</th>\n",
       "      <th>proline</th>\n",
       "    </tr>\n",
       "  </thead>\n",
       "  <tbody>\n",
       "    <tr>\n",
       "      <th>70</th>\n",
       "      <td>1.02</td>\n",
       "      <td>3.05</td>\n",
       "      <td>0.906</td>\n",
       "      <td>1.82</td>\n",
       "      <td>870.0</td>\n",
       "    </tr>\n",
       "    <tr>\n",
       "      <th>25</th>\n",
       "      <td>2.68</td>\n",
       "      <td>3.58</td>\n",
       "      <td>1.130</td>\n",
       "      <td>3.20</td>\n",
       "      <td>830.0</td>\n",
       "    </tr>\n",
       "    <tr>\n",
       "      <th>80</th>\n",
       "      <td>2.26</td>\n",
       "      <td>2.50</td>\n",
       "      <td>1.380</td>\n",
       "      <td>3.12</td>\n",
       "      <td>278.0</td>\n",
       "    </tr>\n",
       "    <tr>\n",
       "      <th>28</th>\n",
       "      <td>2.97</td>\n",
       "      <td>4.50</td>\n",
       "      <td>1.250</td>\n",
       "      <td>3.40</td>\n",
       "      <td>915.0</td>\n",
       "    </tr>\n",
       "    <tr>\n",
       "      <th>101</th>\n",
       "      <td>1.36</td>\n",
       "      <td>2.45</td>\n",
       "      <td>1.040</td>\n",
       "      <td>2.77</td>\n",
       "      <td>562.0</td>\n",
       "    </tr>\n",
       "  </tbody>\n",
       "</table>\n",
       "</div>"
      ],
      "text/plain": [
       "     flavanoids  color_intensity    hue  od280/od315_of_diluted_wines  proline\n",
       "70         1.02             3.05  0.906                          1.82    870.0\n",
       "25         2.68             3.58  1.130                          3.20    830.0\n",
       "80         2.26             2.50  1.380                          3.12    278.0\n",
       "28         2.97             4.50  1.250                          3.40    915.0\n",
       "101        1.36             2.45  1.040                          2.77    562.0"
      ]
     },
     "execution_count": 105,
     "metadata": {},
     "output_type": "execute_result"
    }
   ],
   "source": [
    "# now these are the features with the respective mutual information value, ab is ki base pr hm \n",
    "# top k kuch features ko select kr len gy, e.g: top 5 or top 10 depeneds on dataset, here i am\n",
    "# selecting top 5 \n",
    "from sklearn.feature_selection import SelectKBest\n",
    "top_5_cols=SelectKBest(mutual_info_classif, k=5)\n",
    "top_5_cols.fit(x_train, y_train)\n",
    "# top_5_cols.get_support()\n",
    "x_train_sel=x_train.columns[top_5_cols.get_support()]\n",
    "x_train=x_train[x_train_sel]\n",
    "x_train.head()"
   ]
  },
  {
   "cell_type": "code",
   "execution_count": null,
   "id": "1d26f0fb-019d-4257-a635-c5a000a931c2",
   "metadata": {},
   "outputs": [],
   "source": [
    "Difference Between Information Gain And Mutual Information\n",
    "I(X ; Y) = H(X) – H(X | Y) and IG(S, a) = H(S) – H(S | a)\n",
    "\n",
    "As such, mutual information is sometimes used as a synonym for information gain. Technically,\n",
    "they calculate the same quantity if applied to the same data."
   ]
  }
 ],
 "metadata": {
  "kernelspec": {
   "display_name": "Python 3 (ipykernel)",
   "language": "python",
   "name": "python3"
  },
  "language_info": {
   "codemirror_mode": {
    "name": "ipython",
    "version": 3
   },
   "file_extension": ".py",
   "mimetype": "text/x-python",
   "name": "python",
   "nbconvert_exporter": "python",
   "pygments_lexer": "ipython3",
   "version": "3.12.2"
  }
 },
 "nbformat": 4,
 "nbformat_minor": 5
}
